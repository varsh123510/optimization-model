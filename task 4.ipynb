{
 "cells": [
  {
   "cell_type": "code",
   "execution_count": null,
   "id": "4a3d25b1-b778-481e-a03f-3e10c45e1467",
   "metadata": {},
   "outputs": [],
   "source": []
  },
  {
   "cell_type": "code",
   "execution_count": 3,
   "id": "f4fbf41d-c043-40fc-b09b-994527d5fb38",
   "metadata": {
    "scrolled": true
   },
   "outputs": [
    {
     "name": "stdout",
     "output_type": "stream",
     "text": [
      "Requirement already satisfied: pulp in c:\\users\\toshiba\\anaconda1\\lib\\site-packages (2.9.0)\n",
      "Optimal Production Plan:\n",
      "Produce 16.67 units of Product A\n",
      "Produce 6.67 units of Product B\n",
      "Maximum Profit: $766.67\n",
      "Focus on producing more Product A to maximize profits.\n"
     ]
    }
   ],
   "source": [
    "# Importing necessary libraries\n",
    "!pip install pulp\n",
    "from pulp import LpMaximize, LpProblem, LpVariable, value\n",
    "\n",
    "# Problem Setup\n",
    "# Define the linear programming problem\n",
    "problem = LpProblem(\"Maximize_Profit\", LpMaximize)\n",
    "\n",
    "# Decision Variables\n",
    "# x1 = Number of Product A to produce\n",
    "# x2 = Number of Product B to produce\n",
    "x1 = LpVariable(\"Product_A\", lowBound=0, cat=\"Continuous\")\n",
    "x2 = LpVariable(\"Product_B\", lowBound=0, cat=\"Continuous\")\n",
    "\n",
    "# Objective Function\n",
    "# Maximize profit = 30x1 + 40x2\n",
    "problem += 30 * x1 + 40 * x2, \"Profit\"\n",
    "\n",
    "# Constraints\n",
    "# Labor constraint: 2x1 + x2 <= 40\n",
    "problem += 2 * x1 + x2 <= 40, \"Labor_Constraint\"\n",
    "\n",
    "# Material constraint: x1 + 2x2 <= 30\n",
    "problem += x1 + 2 * x2 <= 30, \"Material_Constraint\"\n",
    "\n",
    "# Solve the problem\n",
    "problem.solve()\n",
    "\n",
    "# Solution\n",
    "product_a_units = x1.varValue\n",
    "product_b_units = x2.varValue\n",
    "max_profit = value(problem.objective)\n",
    "\n",
    "# Displaying Results\n",
    "print(\"Optimal Production Plan:\")\n",
    "print(f\"Produce {product_a_units:.2f} units of Product A\")\n",
    "print(f\"Produce {product_b_units:.2f} units of Product B\")\n",
    "print(f\"Maximum Profit: ${max_profit:.2f}\")\n",
    "\n",
    "# Insights\n",
    "if product_a_units > product_b_units:\n",
    "    print(\"Focus on producing more Product A to maximize profits.\")\n",
    "elif product_b_units > product_a_units:\n",
    "    print(\"Focus on producing more Product B to maximize profits.\")\n",
    "else:\n",
    "    print(\"Both products contribute equally to the optimal solution.\")"
   ]
  },
  {
   "cell_type": "code",
   "execution_count": null,
   "id": "53f33fd1-9649-480b-9556-c7c28f6c178e",
   "metadata": {},
   "outputs": [],
   "source": []
  }
 ],
 "metadata": {
  "kernelspec": {
   "display_name": "Python [conda env:base] *",
   "language": "python",
   "name": "conda-base-py"
  },
  "language_info": {
   "codemirror_mode": {
    "name": "ipython",
    "version": 3
   },
   "file_extension": ".py",
   "mimetype": "text/x-python",
   "name": "python",
   "nbconvert_exporter": "python",
   "pygments_lexer": "ipython3",
   "version": "3.12.7"
  }
 },
 "nbformat": 4,
 "nbformat_minor": 5
}
